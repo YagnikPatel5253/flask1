{
 "cells": [
  {
   "cell_type": "markdown",
   "id": "3f88c7bc-5004-43d3-bf75-cec402494aa3",
   "metadata": {},
   "source": [
    "Question 1"
   ]
  },
  {
   "cell_type": "raw",
   "id": "4d5a4b28-1975-42a7-b44c-ed654a0f7309",
   "metadata": {},
   "source": [
    "--> Flask is a micro web framework written in Python. It is designed to be simple, lightweight, and easy to use, allowing developers to build web applications quickly and efficiently.\n",
    "\n",
    "Advantages of Flask Framework:\n",
    "\n",
    "1) Simplicity: Flask follows a minimalist design philosophy, keeping the core framework small and focused. It provides only the essential features needed for web development, making it easy to understand and use.\n",
    "\n",
    "2) Lightweight: Flask is lightweight in terms of both codebase and resource usage. It has a small footprint and requires minimal dependencies, making it suitable for small-scale projects or applications with limited resources.\n",
    "\n",
    "3) Flexibility: Flask provides great flexibility and doesn't enforce any particular project structure. It allows developers to choose the components and libraries they need for their specific requirements.\n",
    "\n",
    "4) Testing and Debugging: Flask provides built-in support for testing and debugging. It includes a test client that allows developers to simulate requests and test their application's behavior."
   ]
  },
  {
   "cell_type": "markdown",
   "id": "8aec21ca-fd6c-4df8-a306-931ec14543b7",
   "metadata": {},
   "source": [
    "Question 2"
   ]
  },
  {
   "cell_type": "markdown",
   "id": "cfeed98a-68d8-405f-9711-615c96ae6e2d",
   "metadata": {},
   "source": [
    "![helloworld](helloworld.png)"
   ]
  },
  {
   "cell_type": "markdown",
   "id": "172f67b7-8ec7-4706-ad1d-dde23f4c8c13",
   "metadata": {},
   "source": [
    "Question 3"
   ]
  },
  {
   "cell_type": "raw",
   "id": "94662e43-d2f6-4ff0-abda-9b31a7bbbc4f",
   "metadata": {},
   "source": [
    "--> App routing refers to the process of mapping URLs to specific functions or views within Flask application.\n",
    "--> When a client makes a request to a Flask application, the app routing mechanism determines which function or view should handle that particular request based on the specified URL.\n",
    "\n",
    "Few reasons why we use app routes in Flask:\n",
    "\n",
    "1) URL Mapping: App routes allow us to map URLs to specific functions or views. Each app route typically corresponds to a specific page or endpoint in our application.\n",
    "\n",
    "2) Request Handling: App routes help in handling different types of HTTP requests, such as GET, POST, PUT, DELETE, etc.\n",
    "\n",
    "3) Code Organization: By using app routes, we can organize our Flask application's codebase more effectively.\n",
    "\n",
    "4) URL Building: Flask's app routing system includes a URL building feature that allows us to generate URLs dynamically based on the defined routes and associated functions."
   ]
  },
  {
   "cell_type": "markdown",
   "id": "79c371dc-cd2b-4c15-80ee-4d36882a216a",
   "metadata": {},
   "source": [
    "Question 4"
   ]
  },
  {
   "cell_type": "markdown",
   "id": "6aae8cfe-e098-4642-a5f7-e8630c020640",
   "metadata": {},
   "source": [
    "![question4](question4.png)"
   ]
  },
  {
   "cell_type": "markdown",
   "id": "078c63d2-3c1b-45d1-92c5-4a0b722adacc",
   "metadata": {},
   "source": [
    "Question 5"
   ]
  },
  {
   "cell_type": "raw",
   "id": "9ff68dd0-f5ef-4857-a834-f63075f3b498",
   "metadata": {},
   "source": [
    "In Flask, the function used for URL building is called `url_for()`."
   ]
  },
  {
   "cell_type": "raw",
   "id": "8fd737c5-3799-49e6-a576-3db52219bb2f",
   "metadata": {},
   "source": [
    "from flask import Flask, url_for\n",
    "\n",
    "app = Flask(__name__)\n",
    "\n",
    "@app.route('/')\n",
    "def home():\n",
    "    return 'Welcome to the Home Page'\n",
    "\n",
    "@app.route('/about')\n",
    "def about():\n",
    "    return 'About Page'\n",
    "\n",
    "@app.route('/contact')\n",
    "def contact():\n",
    "    return 'Contact Page'\n",
    "\n",
    "@app.route('/generate_urls')\n",
    "def generate_urls():\n",
    "    \n",
    "    home_url = url_for('home')\n",
    "    about_url = url_for('about')\n",
    "    contact_url = url_for('contact')\n",
    "\n",
    "    response = f\"\"\"\n",
    "    <h1>URLs:</h1>\n",
    "    <ul>\n",
    "        <li><a href=\"{home_url}\">Home</a></li>\n",
    "        <li><a href=\"{about_url}\">About</a></li>\n",
    "        <li><a href=\"{contact_url}\">Contact</a></li>\n",
    "    </ul>\n",
    "    \"\"\"\n",
    "\n",
    "    return response\n",
    "\n",
    "if __name__ == '__main__':\n",
    "    app.run(host='0.0.0.0', port=5000)"
   ]
  }
 ],
 "metadata": {
  "kernelspec": {
   "display_name": "Python 3 (ipykernel)",
   "language": "python",
   "name": "python3"
  },
  "language_info": {
   "codemirror_mode": {
    "name": "ipython",
    "version": 3
   },
   "file_extension": ".py",
   "mimetype": "text/x-python",
   "name": "python",
   "nbconvert_exporter": "python",
   "pygments_lexer": "ipython3",
   "version": "3.10.8"
  }
 },
 "nbformat": 4,
 "nbformat_minor": 5
}
